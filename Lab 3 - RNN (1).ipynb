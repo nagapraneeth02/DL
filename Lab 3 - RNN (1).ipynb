{
 "cells": [
  {
   "cell_type": "code",
   "execution_count": 1,
   "metadata": {},
   "outputs": [
    {
     "name": "stderr",
     "output_type": "stream",
     "text": [
      "2024-03-29 10:06:43.088448: I tensorflow/core/platform/cpu_feature_guard.cc:182] This TensorFlow binary is optimized to use available CPU instructions in performance-critical operations.\n",
      "To enable the following instructions: AVX2 FMA, in other operations, rebuild TensorFlow with the appropriate compiler flags.\n",
      "2024-03-29 10:06:44.368676: W tensorflow/compiler/tf2tensorrt/utils/py_utils.cc:38] TF-TRT Warning: Could not find TensorRT\n",
      "/tmp/ipykernel_793426/2861513345.py:7: DeprecationWarning: `magic(...)` is deprecated since IPython 0.13 (warning added in 8.1), use run_line_magic(magic_name, parameter_s).\n",
      "  get_ipython().magic(u'matplotlib inline')\n"
     ]
    }
   ],
   "source": [
    "from numpy import array\n",
    "from keras.models import Sequential\n",
    "from keras.layers import LSTM, GRU\n",
    "from keras.layers import Dense\n",
    "\n",
    "import matplotlib as plt\n",
    "get_ipython().magic(u'matplotlib inline')\n",
    "\n",
    "import datetime as dt, itertools, pandas as pd, matplotlib.pyplot as plt, numpy as np\n"
   ]
  },
  {
   "cell_type": "code",
   "execution_count": 2,
   "metadata": {},
   "outputs": [],
   "source": [
    "def split_sequence(sequence, n_steps=7, lookahead=0):\n",
    "    X, y = list(), list()\n",
    "    for i in range(lookahead,len(sequence)):\n",
    "        # find the end of this pattern\n",
    "        end_ix = i + n_steps\n",
    "        # check if we are beyond the sequence\n",
    "        if end_ix >= len(sequence):\n",
    "            break\n",
    "        # gather input and output parts of the pattern\n",
    "        seq_x, seq_y = sequence[i-lookahead:end_ix-lookahead], sequence[end_ix]\n",
    "        X.append(seq_x)\n",
    "        y.append(seq_y)\n",
    "    return array(X), array(y)"
   ]
  },
  {
   "cell_type": "markdown",
   "metadata": {},
   "source": [
    "### Data preprocessing"
   ]
  },
  {
   "cell_type": "code",
   "execution_count": 3,
   "metadata": {},
   "outputs": [
    {
     "data": {
      "text/html": [
       "<div>\n",
       "<style scoped>\n",
       "    .dataframe tbody tr th:only-of-type {\n",
       "        vertical-align: middle;\n",
       "    }\n",
       "\n",
       "    .dataframe tbody tr th {\n",
       "        vertical-align: top;\n",
       "    }\n",
       "\n",
       "    .dataframe thead th {\n",
       "        text-align: right;\n",
       "    }\n",
       "</style>\n",
       "<table border=\"1\" class=\"dataframe\">\n",
       "  <thead>\n",
       "    <tr style=\"text-align: right;\">\n",
       "      <th></th>\n",
       "      <th>Date</th>\n",
       "      <th>Price</th>\n",
       "    </tr>\n",
       "  </thead>\n",
       "  <tbody>\n",
       "    <tr>\n",
       "      <th>0</th>\n",
       "      <td>1/1/2006</td>\n",
       "      <td>569.865168</td>\n",
       "    </tr>\n",
       "    <tr>\n",
       "      <th>1</th>\n",
       "      <td>1/2/2006</td>\n",
       "      <td>593.271930</td>\n",
       "    </tr>\n",
       "    <tr>\n",
       "      <th>2</th>\n",
       "      <td>1/3/2006</td>\n",
       "      <td>606.471193</td>\n",
       "    </tr>\n",
       "    <tr>\n",
       "      <th>3</th>\n",
       "      <td>1/4/2006</td>\n",
       "      <td>576.932773</td>\n",
       "    </tr>\n",
       "    <tr>\n",
       "      <th>4</th>\n",
       "      <td>1/5/2006</td>\n",
       "      <td>573.812500</td>\n",
       "    </tr>\n",
       "    <tr>\n",
       "      <th>...</th>\n",
       "      <td>...</td>\n",
       "      <td>...</td>\n",
       "    </tr>\n",
       "    <tr>\n",
       "      <th>3647</th>\n",
       "      <td>12/27/2015</td>\n",
       "      <td>832.554167</td>\n",
       "    </tr>\n",
       "    <tr>\n",
       "      <th>3648</th>\n",
       "      <td>12/28/2015</td>\n",
       "      <td>880.513919</td>\n",
       "    </tr>\n",
       "    <tr>\n",
       "      <th>3649</th>\n",
       "      <td>12/29/2015</td>\n",
       "      <td>856.883910</td>\n",
       "    </tr>\n",
       "    <tr>\n",
       "      <th>3650</th>\n",
       "      <td>12/30/2015</td>\n",
       "      <td>888.002212</td>\n",
       "    </tr>\n",
       "    <tr>\n",
       "      <th>3651</th>\n",
       "      <td>12/31/2015</td>\n",
       "      <td>918.498795</td>\n",
       "    </tr>\n",
       "  </tbody>\n",
       "</table>\n",
       "<p>3652 rows × 2 columns</p>\n",
       "</div>"
      ],
      "text/plain": [
       "            Date       Price\n",
       "0       1/1/2006  569.865168\n",
       "1       1/2/2006  593.271930\n",
       "2       1/3/2006  606.471193\n",
       "3       1/4/2006  576.932773\n",
       "4       1/5/2006  573.812500\n",
       "...          ...         ...\n",
       "3647  12/27/2015  832.554167\n",
       "3648  12/28/2015  880.513919\n",
       "3649  12/29/2015  856.883910\n",
       "3650  12/30/2015  888.002212\n",
       "3651  12/31/2015  918.498795\n",
       "\n",
       "[3652 rows x 2 columns]"
      ]
     },
     "execution_count": 3,
     "metadata": {},
     "output_type": "execute_result"
    }
   ],
   "source": [
    "tsdataframe = pd.read_csv('timeseries_lab3.csv')\n",
    "tsdataframe"
   ]
  },
  {
   "cell_type": "code",
   "execution_count": 4,
   "metadata": {},
   "outputs": [],
   "source": [
    "tsdata = np.load('timeseries_lab3.npy')"
   ]
  },
  {
   "cell_type": "code",
   "execution_count": 5,
   "metadata": {},
   "outputs": [
    {
     "data": {
      "text/plain": [
       "array([569.86516854, 593.27192983, 606.47119342, ..., 856.88391039,\n",
       "       888.00221239, 918.49879518])"
      ]
     },
     "execution_count": 5,
     "metadata": {},
     "output_type": "execute_result"
    }
   ],
   "source": [
    "tsdata"
   ]
  },
  {
   "cell_type": "code",
   "execution_count": 6,
   "metadata": {},
   "outputs": [
    {
     "data": {
      "text/plain": [
       "[<matplotlib.lines.Line2D at 0x7f5ae11e8580>]"
      ]
     },
     "execution_count": 6,
     "metadata": {},
     "output_type": "execute_result"
    },
    {
     "data": {
      "image/png": "[encoded data removed]",
      "text/plain": [
       "<Figure size 640x480 with 1 Axes>"
      ]
     },
     "metadata": {},
     "output_type": "display_data"
    }
   ],
   "source": [
    "plt.plot(tsdata)"
   ]
  },
  {
   "cell_type": "code",
   "execution_count": 7,
   "metadata": {},
   "outputs": [],
   "source": [
    "n_steps=7\n",
    "n_features = 1\n",
    "train_size = 2557"
   ]
  },
  {
   "cell_type": "code",
   "execution_count": 8,
   "metadata": {},
   "outputs": [],
   "source": [
    "X, y = split_sequence(tsdata,n_steps)"
   ]
  },
  {
   "cell_type": "code",
   "execution_count": 9,
   "metadata": {},
   "outputs": [
    {
     "data": {
      "text/plain": [
       "array([[569.86516854, 593.27192983, 606.47119342, ..., 573.8125    ,\n",
       "        576.17699115, 548.16748768],\n",
       "       [593.27192983, 606.47119342, 576.93277311, ..., 576.17699115,\n",
       "        548.16748768, 528.13043478],\n",
       "       [606.47119342, 576.93277311, 573.8125    , ..., 548.16748768,\n",
       "        528.13043478, 543.19517544],\n",
       "       ...,\n",
       "       [876.92110454, 923.34583333, 807.89142857, ..., 865.42385787,\n",
       "        832.55416667, 880.51391863],\n",
       "       [923.34583333, 807.89142857, 753.03703704, ..., 832.55416667,\n",
       "        880.51391863, 856.88391039],\n",
       "       [807.89142857, 753.03703704, 865.42385787, ..., 880.51391863,\n",
       "        856.88391039, 888.00221239]])"
      ]
     },
     "execution_count": 9,
     "metadata": {},
     "output_type": "execute_result"
    }
   ],
   "source": [
    "X"
   ]
  },
  {
   "cell_type": "code",
   "execution_count": 10,
   "metadata": {},
   "outputs": [
    {
     "data": {
      "text/plain": [
       "array([569.86516854, 593.27192983, 606.47119342, 576.93277311,\n",
       "       573.8125    , 576.17699115, 548.16748768, 528.13043478,\n",
       "       543.19517544, 540.05982906, 504.04968944, 525.14767933,\n",
       "       541.65966387, 507.06172839, 517.2       ])"
      ]
     },
     "execution_count": 10,
     "metadata": {},
     "output_type": "execute_result"
    }
   ],
   "source": [
    "tsdata[:15]"
   ]
  },
  {
   "cell_type": "code",
   "execution_count": 11,
   "metadata": {},
   "outputs": [],
   "source": [
    "#X[:10]"
   ]
  },
  {
   "cell_type": "code",
   "execution_count": 12,
   "metadata": {},
   "outputs": [],
   "source": [
    "#y[:4]"
   ]
  },
  {
   "cell_type": "code",
   "execution_count": 13,
   "metadata": {},
   "outputs": [],
   "source": [
    "X = X.reshape((X.shape[0], X.shape[1], n_features))\n",
    "trainX = X[:train_size]\n",
    "trainy = y[:train_size]\n",
    "testX = X[train_size:]\n",
    "testy = y[train_size:]"
   ]
  },
  {
   "cell_type": "code",
   "execution_count": 14,
   "metadata": {},
   "outputs": [],
   "source": [
    "#trainX"
   ]
  },
  {
   "cell_type": "markdown",
   "metadata": {},
   "source": [
    "### LSTM model for time series prediction"
   ]
  },
  {
   "cell_type": "code",
   "execution_count": 15,
   "metadata": {},
   "outputs": [
    {
     "name": "stdout",
     "output_type": "stream",
     "text": [
      "WARNING:tensorflow:Layer lstm will not use cuDNN kernels since it doesn't meet the criteria. It will use a generic GPU kernel as fallback when running on GPU.\n"
     ]
    },
    {
     "name": "stderr",
     "output_type": "stream",
     "text": [
      "2024-03-29 10:06:58.981795: I tensorflow/core/common_runtime/gpu/gpu_device.cc:1639] Created device /job:localhost/replica:0/task:0/device:GPU:0 with 9455 MB memory:  -> device: 0, name: NVIDIA GeForce RTX 2080 Ti, pci bus id: 0000:08:00.0, compute capability: 7.5\n",
      "2024-03-29 10:06:58.983173: I tensorflow/core/common_runtime/gpu/gpu_device.cc:1639] Created device /job:localhost/replica:0/task:0/device:GPU:1 with 9335 MB memory:  -> device: 1, name: NVIDIA GeForce RTX 2080 Ti, pci bus id: 0000:09:00.0, compute capability: 7.5\n",
      "2024-03-29 10:06:58.984282: I tensorflow/core/common_runtime/gpu/gpu_device.cc:1639] Created device /job:localhost/replica:0/task:0/device:GPU:2 with 9335 MB memory:  -> device: 2, name: NVIDIA GeForce RTX 2080 Ti, pci bus id: 0000:87:00.0, compute capability: 7.5\n",
      "2024-03-29 10:06:58.985390: I tensorflow/core/common_runtime/gpu/gpu_device.cc:1639] Created device /job:localhost/replica:0/task:0/device:GPU:3 with 7171 MB memory:  -> device: 3, name: NVIDIA GeForce GTX 1080, pci bus id: 0000:04:00.0, compute capability: 6.1\n",
      "2024-03-29 10:06:58.986476: I tensorflow/core/common_runtime/gpu/gpu_device.cc:1639] Created device /job:localhost/replica:0/task:0/device:GPU:4 with 7171 MB memory:  -> device: 4, name: NVIDIA GeForce GTX 1080, pci bus id: 0000:05:00.0, compute capability: 6.1\n",
      "2024-03-29 10:06:58.987591: I tensorflow/core/common_runtime/gpu/gpu_device.cc:1639] Created device /job:localhost/replica:0/task:0/device:GPU:5 with 7171 MB memory:  -> device: 5, name: NVIDIA GeForce GTX 1080, pci bus id: 0000:83:00.0, compute capability: 6.1\n",
      "2024-03-29 10:06:58.988723: I tensorflow/core/common_runtime/gpu/gpu_device.cc:1639] Created device /job:localhost/replica:0/task:0/device:GPU:6 with 7171 MB memory:  -> device: 6, name: NVIDIA GeForce GTX 1080, pci bus id: 0000:84:00.0, compute capability: 6.1\n"
     ]
    }
   ],
   "source": [
    "model = Sequential()\n",
    "model.add(LSTM(50, activation='relu', input_shape=(n_steps, n_features)))\n",
    "model.add(Dense(1))\n",
    "model.compile(optimizer='adam', loss='mse')"
   ]
  },
  {
   "cell_type": "code",
   "execution_count": 16,
   "metadata": {},
   "outputs": [
    {
     "name": "stdout",
     "output_type": "stream",
     "text": [
      "Epoch 1/20\n"
     ]
    },
    {
     "name": "stderr",
     "output_type": "stream",
     "text": [
      "2024-03-29 10:07:01.517478: I tensorflow/compiler/xla/service/service.cc:168] XLA service 0x562a0d144810 initialized for platform CUDA (this does not guarantee that XLA will be used). Devices:\n",
      "2024-03-29 10:07:01.517539: I tensorflow/compiler/xla/service/service.cc:176]   StreamExecutor device (0): NVIDIA GeForce RTX 2080 Ti, Compute Capability 7.5\n",
      "2024-03-29 10:07:01.517554: I tensorflow/compiler/xla/service/service.cc:176]   StreamExecutor device (1): NVIDIA GeForce RTX 2080 Ti, Compute Capability 7.5\n",
      "2024-03-29 10:07:01.517564: I tensorflow/compiler/xla/service/service.cc:176]   StreamExecutor device (2): NVIDIA GeForce RTX 2080 Ti, Compute Capability 7.5\n",
      "2024-03-29 10:07:01.517574: I tensorflow/compiler/xla/service/service.cc:176]   StreamExecutor device (3): NVIDIA GeForce GTX 1080, Compute Capability 6.1\n",
      "2024-03-29 10:07:01.517584: I tensorflow/compiler/xla/service/service.cc:176]   StreamExecutor device (4): NVIDIA GeForce GTX 1080, Compute Capability 6.1\n",
      "2024-03-29 10:07:01.517593: I tensorflow/compiler/xla/service/service.cc:176]   StreamExecutor device (5): NVIDIA GeForce GTX 1080, Compute Capability 6.1\n",
      "2024-03-29 10:07:01.517603: I tensorflow/compiler/xla/service/service.cc:176]   StreamExecutor device (6): NVIDIA GeForce GTX 1080, Compute Capability 6.1\n",
      "2024-03-29 10:07:01.526478: I tensorflow/compiler/mlir/tensorflow/utils/dump_mlir_util.cc:255] disabling MLIR crash reproducer, set env var `MLIR_CRASH_REPRODUCER_DIRECTORY` to enable.\n",
      "2024-03-29 10:07:01.594616: I tensorflow/compiler/xla/stream_executor/cuda/cuda_dnn.cc:432] Loaded cuDNN version 8904\n",
      "2024-03-29 10:07:01.703216: I tensorflow/tsl/platform/default/subprocess.cc:304] Start cannot spawn child process: No such file or directory\n",
      "2024-03-29 10:07:01.810487: I ./tensorflow/compiler/jit/device_compiler.h:186] Compiled cluster using XLA!  This line is logged at most once for the lifetime of the process.\n"
     ]
    },
    {
     "name": "stdout",
     "output_type": "stream",
     "text": [
      "80/80 [==============================] - 4s 15ms/step - loss: 227155.0938\n",
      "Epoch 2/20\n",
      "80/80 [==============================] - 1s 16ms/step - loss: 807.9385\n",
      "Epoch 3/20\n",
      "80/80 [==============================] - 1s 16ms/step - loss: 680.4080\n",
      "Epoch 4/20\n",
      "80/80 [==============================] - 1s 16ms/step - loss: 668.1791\n",
      "Epoch 5/20\n",
      "80/80 [==============================] - 1s 17ms/step - loss: 661.8977\n",
      "Epoch 6/20\n",
      "80/80 [==============================] - 1s 16ms/step - loss: 664.8443\n",
      "Epoch 7/20\n",
      "80/80 [==============================] - 1s 16ms/step - loss: 661.9398\n",
      "Epoch 8/20\n",
      "80/80 [==============================] - 1s 16ms/step - loss: 654.6578\n",
      "Epoch 9/20\n",
      "80/80 [==============================] - 1s 16ms/step - loss: 648.0490\n",
      "Epoch 10/20\n",
      "80/80 [==============================] - 1s 17ms/step - loss: 648.5803\n",
      "Epoch 11/20\n",
      "80/80 [==============================] - 1s 17ms/step - loss: 644.6320\n",
      "Epoch 12/20\n",
      "80/80 [==============================] - 1s 16ms/step - loss: 637.0699\n",
      "Epoch 13/20\n",
      "80/80 [==============================] - 1s 17ms/step - loss: 642.6551\n",
      "Epoch 14/20\n",
      "80/80 [==============================] - 1s 16ms/step - loss: 627.9406\n",
      "Epoch 15/20\n",
      "80/80 [==============================] - 1s 16ms/step - loss: 615.4773\n",
      "Epoch 16/20\n",
      "80/80 [==============================] - 1s 17ms/step - loss: 618.7090\n",
      "Epoch 17/20\n",
      "80/80 [==============================] - 1s 16ms/step - loss: 615.1536\n",
      "Epoch 18/20\n",
      "80/80 [==============================] - 1s 16ms/step - loss: 607.2212\n",
      "Epoch 19/20\n",
      "80/80 [==============================] - 1s 16ms/step - loss: 597.9488\n",
      "Epoch 20/20\n",
      "80/80 [==============================] - 1s 17ms/step - loss: 590.5654\n"
     ]
    },
    {
     "data": {
      "text/plain": [
       "<keras.src.callbacks.History at 0x7f5adc1484f0>"
      ]
     },
     "execution_count": 16,
     "metadata": {},
     "output_type": "execute_result"
    }
   ],
   "source": [
    "model.fit(trainX, trainy, epochs=20, verbose=1)"
   ]
  },
  {
   "cell_type": "markdown",
   "metadata": {},
   "source": [
    "### Prediction (test set)"
   ]
  },
  {
   "cell_type": "code",
   "execution_count": 17,
   "metadata": {},
   "outputs": [],
   "source": [
    "yhat = model.predict(testX, verbose=0)"
   ]
  },
  {
   "cell_type": "code",
   "execution_count": 18,
   "metadata": {},
   "outputs": [],
   "source": [
    "pred = []\n",
    "for i in range(yhat.shape[0]):\n",
    "    pred.append(yhat[i])\n",
    "pred = np.array(pred)"
   ]
  },
  {
   "cell_type": "code",
   "execution_count": 19,
   "metadata": {},
   "outputs": [
    {
     "data": {
      "text/plain": [
       "Text(0.5, 0, 'Days')"
      ]
     },
     "execution_count": 19,
     "metadata": {},
     "output_type": "execute_result"
    },
    {
     "data": {
      "image/png": "[encoded data removed]",
      "text/plain": [
       "<Figure size 640x480 with 1 Axes>"
      ]
     },
     "metadata": {},
     "output_type": "display_data"
    }
   ],
   "source": [
    "plt.plot(range(len(tsdata)),tsdata,label='True')\n",
    "plt.plot(range(len(tsdata)-len(testy),len(tsdata)),pred,label='Predicted')\n",
    "plt.legend(loc='upper left')\n",
    "plt.xlabel('Days')\n",
    "\n"
   ]
  },
  {
   "cell_type": "markdown",
   "metadata": {},
   "source": [
    "## Lab 4: Language Model"
   ]
  },
  {
   "cell_type": "markdown",
   "metadata": {},
   "source": [
    "<b>Problem statement:</b> Use the following dataset containing element names to train a language model. Generate new names using the trained model. The generated names should resemble element names, e.g. ends with '-ium'"
   ]
  },
  {
   "cell_type": "markdown",
   "metadata": {},
   "source": [
    "### Data"
   ]
  },
  {
   "cell_type": "code",
   "execution_count": 20,
   "metadata": {},
   "outputs": [],
   "source": [
    "data = open('elements.txt', 'r').read()\n",
    "data= data.lower()\n",
    "chars = list(set('\\n'.join(data)))\n",
    "data_size, vocab_size = len(data), len(chars)\n",
    "char_to_index = { ch:i for i,ch in enumerate(chars) }\n",
    "index_to_char = { i:ch for i,ch in enumerate(chars) }\n",
    "char_to_index[' '] = len(chars)\n",
    "data_size, vocab_size = len(data), len(chars)\n"
   ]
  },
  {
   "cell_type": "code",
   "execution_count": 21,
   "metadata": {},
   "outputs": [
    {
     "data": {
      "text/plain": [
       "'hydrogen\\nhelium\\nlithium\\nberyllium\\nboron\\ncarbon\\nnitrogen\\noxygen\\nfluorine\\nneon\\nsodium\\nmagnesium\\naluminium\\nsilicon\\nphosphorus\\nsulfur\\nchlorine\\nargon\\npotassium\\ncalcium\\nscandium\\ntitanium\\nvanadium\\nchromium\\nmanganese\\niron\\ncobalt\\nnickel\\ncopper\\nzinc\\ngallium\\ngermanium\\narsenic\\nselenium\\nbromine\\nkrypton\\nrubidium\\nstrontium\\nyttrium\\nzirconium\\nniobium\\nmolybdenum\\ntechnetium\\nruthenium\\nrhodium\\npalladium\\nsilver\\ncadmium\\nindium\\ntin\\nantimony\\ntellurium\\niodine\\nxenon\\ncesium\\nbarium\\nlanthanum\\ncerium\\npraseodymium\\nneodymium\\npromethium\\nsamarium\\neuropium\\ngadolinium\\nterbium\\ndysprosium\\nholmium\\nerbium\\nthulium\\nytterbium\\nlutetium\\nhafnium\\ntantalum\\ntungsten\\nrhenium\\nosmium\\niridium\\nplatinum\\ngold\\nmercury\\nthallium\\nlead\\nbismuth\\npolonium\\nastatine\\nradon\\nfrancium\\nradium\\nactinium\\nthorium\\nprotactinium\\nuranium\\nneptunium\\nplutonium\\namericium\\ncurium\\nberkelium\\ncalifornium\\neinsteinium\\nfermium\\nmendelevium\\nnobelium\\nlawrencium\\nrutherfordium\\ndubnium\\nseaborgium\\nbohrium\\nhassium\\nmeitnerium\\ndarmstadtium\\nroentgenium\\ncopernicium\\nnihonium\\nflerovium\\nmoscovium\\nlivermorium\\ntennessine\\noganesson'"
      ]
     },
     "execution_count": 21,
     "metadata": {},
     "output_type": "execute_result"
    }
   ],
   "source": [
    "data"
   ]
  },
  {
   "cell_type": "markdown",
   "metadata": {},
   "source": [
    "### Model Architecture"
   ]
  },
  {
   "cell_type": "markdown",
   "metadata": {},
   "source": [
    "<img src=\"rnn_langmod.png\" style=\"width:500;height:300px;\">"
   ]
  },
  {
   "cell_type": "code",
   "execution_count": 22,
   "metadata": {},
   "outputs": [],
   "source": [
    "import numpy as np\n",
    "import tensorflow as tf\n",
    "\n",
    "def load_and_process_data(file_path):\n",
    "    with open(file_path, 'r') as file:\n",
    "        elements_data = file.read().split()\n",
    "\n",
    "    unique_chars = sorted(set(''.join(elements_data)))\n",
    "    char_to_index = {char: idx for idx, char in enumerate(unique_chars)}\n",
    "    index_to_char = {idx: char for idx, char in enumerate(unique_chars)}\n",
    "\n",
    "    encoded_data = [char_to_index[char] for char in ''.join(elements_data)]\n",
    "\n",
    "    sequence_length = 10\n",
    "    sequences_list = []\n",
    "    for position in range(0, len(encoded_data) - sequence_length):\n",
    "        sequences_list.append(encoded_data[position:position + sequence_length])\n",
    "\n",
    "    input_sequences = np.array(sequences_list)\n",
    "    targets = tf.keras.utils.to_categorical(input_sequences[:, -1], num_classes=len(unique_chars))\n",
    "    input_sequences = input_sequences[:, :-1]\n",
    "\n",
    "    return input_sequences, targets, char_to_index, index_to_char, unique_chars\n"
   ]
  },
  {
   "cell_type": "code",
   "execution_count": 23,
   "metadata": {},
   "outputs": [],
   "source": [
    "def define_and_train_model(input_sequences, targets, unique_chars, char_to_index, index_to_char):\n",
    "    neural_network = tf.keras.Sequential([\n",
    "        tf.keras.layers.Embedding(input_dim=len(unique_chars), output_dim=128, input_length=len(input_sequences[0])),\n",
    "        tf.keras.layers.LSTM(128, return_sequences=True),\n",
    "        tf.keras.layers.Dropout(0.30),\n",
    "        tf.keras.layers.LSTM(128),\n",
    "        tf.keras.layers.Dropout(0.45),\n",
    "        tf.keras.layers.Dense(128, activation='relu'),\n",
    "        tf.keras.layers.Dense(len(unique_chars), activation='softmax')\n",
    "    ])\n",
    "    neural_network.compile(optimizer='adam', loss='categorical_crossentropy')\n",
    "    neural_network.fit(input_sequences, targets, epochs=120, verbose=1)\n",
    "    words_generated = []\n",
    "    while len(words_generated) < 10:\n",
    "        start_index = np.random.randint(0, len(input_sequences))\n",
    "        sequence = input_sequences[start_index]\n",
    "\n",
    "        text_generated = ''.join([index_to_char[index] for index in sequence])\n",
    "\n",
    "        for _ in range(20):\n",
    "            prediction_input = np.array([sequence])\n",
    "            prediction = neural_network.predict(prediction_input)[0]\n",
    "            next_index = np.argmax(prediction)\n",
    "            next_character = index_to_char[next_index]\n",
    "            text_generated += next_character\n",
    "            sequence = np.append(sequence[1:], next_index)\n",
    "\n",
    "            if text_generated.endswith('ium'):\n",
    "                words_generated.append(text_generated)\n",
    "                break\n",
    "\n",
    "    return words_generated\n"
   ]
  },
  {
   "cell_type": "code",
   "execution_count": 25,
   "metadata": {},
   "outputs": [
    {
     "name": "stdout",
     "output_type": "stream",
     "text": [
      "Epoch 1/120\n",
      "29/29 [==============================] - 7s 33ms/step - loss: 3.0053\n",
      "Epoch 2/120\n",
      "29/29 [==============================] - 1s 19ms/step - loss: 2.8263\n",
      "Epoch 3/120\n",
      "29/29 [==============================] - 0s 10ms/step - loss: 2.8039\n",
      "Epoch 4/120\n",
      "29/29 [==============================] - 0s 10ms/step - loss: 2.7887\n",
      "Epoch 5/120\n",
      "29/29 [==============================] - 1s 27ms/step - loss: 2.7666\n",
      "Epoch 6/120\n",
      "29/29 [==============================] - 0s 10ms/step - loss: 2.7435\n",
      "Epoch 7/120\n",
      "29/29 [==============================] - 0s 10ms/step - loss: 2.6712\n",
      "Epoch 8/120\n",
      "29/29 [==============================] - 0s 11ms/step - loss: 2.5614\n",
      "Epoch 9/120\n",
      "29/29 [==============================] - 0s 10ms/step - loss: 2.4452\n",
      "Epoch 10/120\n",
      "29/29 [==============================] - 0s 10ms/step - loss: 2.3726\n",
      "Epoch 11/120\n",
      "29/29 [==============================] - 0s 10ms/step - loss: 2.3243\n",
      "Epoch 12/120\n",
      "29/29 [==============================] - 0s 10ms/step - loss: 2.2911\n",
      "Epoch 13/120\n",
      "29/29 [==============================] - 0s 10ms/step - loss: 2.2722\n",
      "Epoch 14/120\n",
      "29/29 [==============================] - 0s 10ms/step - loss: 2.2499\n",
      "Epoch 15/120\n",
      "29/29 [==============================] - 0s 11ms/step - loss: 2.2233\n",
      "Epoch 16/120\n",
      "29/29 [==============================] - 0s 10ms/step - loss: 2.1907\n",
      "Epoch 17/120\n",
      "29/29 [==============================] - 0s 10ms/step - loss: 2.1855\n",
      "Epoch 18/120\n",
      "29/29 [==============================] - 0s 10ms/step - loss: 2.1376\n",
      "Epoch 19/120\n",
      "29/29 [==============================] - 0s 11ms/step - loss: 2.1279\n",
      "Epoch 20/120\n",
      "29/29 [==============================] - 0s 11ms/step - loss: 2.0761\n",
      "Epoch 21/120\n",
      "29/29 [==============================] - 0s 10ms/step - loss: 2.0666\n",
      "Epoch 22/120\n",
      "29/29 [==============================] - 0s 10ms/step - loss: 2.0428\n",
      "Epoch 23/120\n",
      "29/29 [==============================] - 0s 10ms/step - loss: 1.9891\n",
      "Epoch 24/120\n",
      "29/29 [==============================] - 0s 11ms/step - loss: 1.9572\n",
      "Epoch 25/120\n",
      "29/29 [==============================] - 0s 10ms/step - loss: 1.8988\n",
      "Epoch 26/120\n",
      "29/29 [==============================] - 0s 10ms/step - loss: 1.8749\n",
      "Epoch 27/120\n",
      "29/29 [==============================] - 0s 10ms/step - loss: 1.8338\n",
      "Epoch 28/120\n",
      "29/29 [==============================] - 0s 10ms/step - loss: 1.7604\n",
      "Epoch 29/120\n",
      "29/29 [==============================] - 0s 10ms/step - loss: 1.7475\n",
      "Epoch 30/120\n",
      "29/29 [==============================] - 0s 11ms/step - loss: 1.6612\n",
      "Epoch 31/120\n",
      "29/29 [==============================] - 0s 10ms/step - loss: 1.6268\n",
      "Epoch 32/120\n",
      "29/29 [==============================] - 0s 10ms/step - loss: 1.5952\n",
      "Epoch 33/120\n",
      "29/29 [==============================] - 0s 10ms/step - loss: 1.5371\n",
      "Epoch 34/120\n",
      "29/29 [==============================] - 0s 10ms/step - loss: 1.4544\n",
      "Epoch 35/120\n",
      "29/29 [==============================] - 0s 10ms/step - loss: 1.4580\n",
      "Epoch 36/120\n",
      "29/29 [==============================] - 0s 10ms/step - loss: 1.3688\n",
      "Epoch 37/120\n",
      "29/29 [==============================] - 0s 10ms/step - loss: 1.3378\n",
      "Epoch 38/120\n",
      "29/29 [==============================] - 0s 10ms/step - loss: 1.2971\n",
      "Epoch 39/120\n",
      "29/29 [==============================] - 0s 10ms/step - loss: 1.2657\n",
      "Epoch 40/120\n",
      "29/29 [==============================] - 0s 11ms/step - loss: 1.2055\n",
      "Epoch 41/120\n",
      "29/29 [==============================] - 0s 10ms/step - loss: 1.1661\n",
      "Epoch 42/120\n",
      "29/29 [==============================] - 0s 10ms/step - loss: 1.1246\n",
      "Epoch 43/120\n",
      "29/29 [==============================] - 0s 11ms/step - loss: 1.0773\n",
      "Epoch 44/120\n",
      "29/29 [==============================] - 0s 11ms/step - loss: 1.0339\n",
      "Epoch 45/120\n",
      "29/29 [==============================] - 0s 10ms/step - loss: 0.9615\n",
      "Epoch 46/120\n",
      "29/29 [==============================] - 0s 10ms/step - loss: 0.9110\n",
      "Epoch 47/120\n",
      "29/29 [==============================] - 1s 22ms/step - loss: 0.8919\n",
      "Epoch 48/120\n",
      "29/29 [==============================] - 0s 10ms/step - loss: 0.8159\n",
      "Epoch 49/120\n",
      "29/29 [==============================] - 0s 11ms/step - loss: 0.7679\n",
      "Epoch 50/120\n",
      "29/29 [==============================] - 0s 10ms/step - loss: 0.7795\n",
      "Epoch 51/120\n",
      "29/29 [==============================] - 0s 10ms/step - loss: 0.7208\n",
      "Epoch 52/120\n",
      "29/29 [==============================] - 0s 10ms/step - loss: 0.7090\n",
      "Epoch 53/120\n",
      "29/29 [==============================] - 0s 10ms/step - loss: 0.6336\n",
      "Epoch 54/120\n",
      "29/29 [==============================] - 0s 10ms/step - loss: 0.6116\n",
      "Epoch 55/120\n",
      "29/29 [==============================] - 0s 10ms/step - loss: 0.5819\n",
      "Epoch 56/120\n",
      "29/29 [==============================] - 0s 10ms/step - loss: 0.5427\n",
      "Epoch 57/120\n",
      "29/29 [==============================] - 0s 10ms/step - loss: 0.5226\n",
      "Epoch 58/120\n",
      "29/29 [==============================] - 0s 10ms/step - loss: 0.5037\n",
      "Epoch 59/120\n",
      "29/29 [==============================] - 0s 10ms/step - loss: 0.4654\n",
      "Epoch 60/120\n",
      "29/29 [==============================] - 0s 10ms/step - loss: 0.4071\n",
      "Epoch 61/120\n",
      "29/29 [==============================] - 0s 10ms/step - loss: 0.4014\n",
      "Epoch 62/120\n",
      "29/29 [==============================] - 0s 10ms/step - loss: 0.3714\n",
      "Epoch 63/120\n",
      "29/29 [==============================] - 0s 11ms/step - loss: 0.3667\n",
      "Epoch 64/120\n",
      "29/29 [==============================] - 0s 10ms/step - loss: 0.3730\n",
      "Epoch 65/120\n",
      "29/29 [==============================] - 0s 10ms/step - loss: 0.3486\n",
      "Epoch 66/120\n",
      "29/29 [==============================] - 0s 10ms/step - loss: 0.3192\n",
      "Epoch 67/120\n",
      "29/29 [==============================] - 0s 10ms/step - loss: 0.3045\n",
      "Epoch 68/120\n",
      "29/29 [==============================] - 0s 11ms/step - loss: 0.2742\n",
      "Epoch 69/120\n",
      "29/29 [==============================] - 0s 11ms/step - loss: 0.2657\n",
      "Epoch 70/120\n",
      "29/29 [==============================] - 0s 10ms/step - loss: 0.2521\n",
      "Epoch 71/120\n",
      "29/29 [==============================] - 0s 10ms/step - loss: 0.2200\n",
      "Epoch 72/120\n",
      "29/29 [==============================] - 0s 10ms/step - loss: 0.2208\n",
      "Epoch 73/120\n",
      "29/29 [==============================] - 0s 11ms/step - loss: 0.2250\n",
      "Epoch 74/120\n",
      "29/29 [==============================] - 0s 10ms/step - loss: 0.2554\n",
      "Epoch 75/120\n",
      "29/29 [==============================] - 0s 10ms/step - loss: 0.2389\n",
      "Epoch 76/120\n",
      "29/29 [==============================] - 0s 10ms/step - loss: 0.2195\n",
      "Epoch 77/120\n",
      "29/29 [==============================] - 0s 10ms/step - loss: 0.1875\n",
      "Epoch 78/120\n",
      "29/29 [==============================] - 0s 10ms/step - loss: 0.1881\n",
      "Epoch 79/120\n",
      "29/29 [==============================] - 0s 10ms/step - loss: 0.1954\n",
      "Epoch 80/120\n",
      "29/29 [==============================] - 0s 10ms/step - loss: 0.1784\n",
      "Epoch 81/120\n",
      "29/29 [==============================] - 0s 10ms/step - loss: 0.1378\n",
      "Epoch 82/120\n",
      "29/29 [==============================] - 0s 10ms/step - loss: 0.1526\n",
      "Epoch 83/120\n",
      "29/29 [==============================] - 0s 10ms/step - loss: 0.1474\n",
      "Epoch 84/120\n",
      "29/29 [==============================] - 0s 10ms/step - loss: 0.1481\n",
      "Epoch 85/120\n",
      "29/29 [==============================] - 0s 10ms/step - loss: 0.1407\n",
      "Epoch 86/120\n",
      "29/29 [==============================] - 0s 10ms/step - loss: 0.1235\n",
      "Epoch 87/120\n",
      "29/29 [==============================] - 0s 10ms/step - loss: 0.1210\n",
      "Epoch 88/120\n",
      "29/29 [==============================] - 0s 10ms/step - loss: 0.1313\n",
      "Epoch 89/120\n",
      "29/29 [==============================] - 0s 10ms/step - loss: 0.1069\n",
      "Epoch 90/120\n",
      "29/29 [==============================] - 0s 11ms/step - loss: 0.1137\n",
      "Epoch 91/120\n",
      "29/29 [==============================] - 0s 10ms/step - loss: 0.1399\n",
      "Epoch 92/120\n",
      "29/29 [==============================] - 0s 10ms/step - loss: 0.1154\n",
      "Epoch 93/120\n",
      "29/29 [==============================] - 1s 19ms/step - loss: 0.1265\n",
      "Epoch 94/120\n",
      "29/29 [==============================] - 0s 10ms/step - loss: 0.1145\n",
      "Epoch 95/120\n",
      "29/29 [==============================] - 0s 10ms/step - loss: 0.1250\n",
      "Epoch 96/120\n",
      "29/29 [==============================] - 0s 11ms/step - loss: 0.1205\n",
      "Epoch 97/120\n",
      "29/29 [==============================] - 0s 10ms/step - loss: 0.1185\n",
      "Epoch 98/120\n",
      "29/29 [==============================] - 0s 11ms/step - loss: 0.1195\n",
      "Epoch 99/120\n",
      "29/29 [==============================] - 0s 10ms/step - loss: 0.0904\n",
      "Epoch 100/120\n",
      "29/29 [==============================] - 0s 10ms/step - loss: 0.0808\n",
      "Epoch 101/120\n",
      "29/29 [==============================] - 0s 10ms/step - loss: 0.0769\n",
      "Epoch 102/120\n",
      "29/29 [==============================] - 0s 10ms/step - loss: 0.0994\n",
      "Epoch 103/120\n",
      "29/29 [==============================] - 0s 10ms/step - loss: 0.0954\n",
      "Epoch 104/120\n",
      "29/29 [==============================] - 0s 10ms/step - loss: 0.1192\n",
      "Epoch 105/120\n",
      "29/29 [==============================] - 0s 10ms/step - loss: 0.0747\n",
      "Epoch 106/120\n",
      "29/29 [==============================] - 0s 10ms/step - loss: 0.0836\n",
      "Epoch 107/120\n",
      "29/29 [==============================] - 0s 10ms/step - loss: 0.0758\n",
      "Epoch 108/120\n",
      "29/29 [==============================] - 0s 10ms/step - loss: 0.0774\n",
      "Epoch 109/120\n",
      "29/29 [==============================] - 0s 10ms/step - loss: 0.0549\n",
      "Epoch 110/120\n",
      "29/29 [==============================] - 0s 10ms/step - loss: 0.0805\n",
      "Epoch 111/120\n",
      "29/29 [==============================] - 0s 10ms/step - loss: 0.0669\n",
      "Epoch 112/120\n",
      "29/29 [==============================] - 0s 10ms/step - loss: 0.0857\n",
      "Epoch 113/120\n",
      "29/29 [==============================] - 0s 10ms/step - loss: 0.1328\n",
      "Epoch 114/120\n",
      "29/29 [==============================] - 0s 11ms/step - loss: 0.0810\n",
      "Epoch 115/120\n",
      "29/29 [==============================] - 0s 10ms/step - loss: 0.0749\n",
      "Epoch 116/120\n",
      "29/29 [==============================] - 0s 10ms/step - loss: 0.0596\n",
      "Epoch 117/120\n",
      "29/29 [==============================] - 0s 11ms/step - loss: 0.1018\n",
      "Epoch 118/120\n",
      "29/29 [==============================] - 0s 10ms/step - loss: 0.0693\n",
      "Epoch 119/120\n",
      "29/29 [==============================] - 0s 10ms/step - loss: 0.0952\n",
      "Epoch 120/120\n",
      "29/29 [==============================] - 0s 11ms/step - loss: 0.0864\n",
      "1/1 [==============================] - 1s 995ms/step\n",
      "1/1 [==============================] - 0s 43ms/step\n",
      "1/1 [==============================] - 0s 46ms/step\n",
      "1/1 [==============================] - 0s 43ms/step\n",
      "1/1 [==============================] - 0s 45ms/step\n",
      "1/1 [==============================] - 0s 45ms/step\n",
      "1/1 [==============================] - 0s 46ms/step\n",
      "1/1 [==============================] - 0s 43ms/step\n",
      "1/1 [==============================] - 0s 45ms/step\n",
      "1/1 [==============================] - 0s 45ms/step\n",
      "1/1 [==============================] - 0s 45ms/step\n",
      "1/1 [==============================] - 0s 47ms/step\n",
      "1/1 [==============================] - 0s 42ms/step\n",
      "1/1 [==============================] - 0s 42ms/step\n",
      "1/1 [==============================] - 0s 46ms/step\n",
      "1/1 [==============================] - 0s 49ms/step\n",
      "1/1 [==============================] - 0s 45ms/step\n",
      "1/1 [==============================] - 0s 45ms/step\n",
      "1/1 [==============================] - 0s 43ms/step\n",
      "1/1 [==============================] - 0s 45ms/step\n",
      "1/1 [==============================] - 0s 43ms/step\n",
      "1/1 [==============================] - 0s 43ms/step\n",
      "1/1 [==============================] - 0s 44ms/step\n",
      "1/1 [==============================] - 0s 45ms/step\n",
      "1/1 [==============================] - 0s 43ms/step\n",
      "1/1 [==============================] - 0s 45ms/step\n",
      "1/1 [==============================] - 0s 43ms/step\n",
      "1/1 [==============================] - 0s 43ms/step\n",
      "1/1 [==============================] - 0s 43ms/step\n",
      "1/1 [==============================] - 0s 43ms/step\n",
      "1/1 [==============================] - 0s 46ms/step\n",
      "1/1 [==============================] - 0s 43ms/step\n",
      "1/1 [==============================] - 0s 43ms/step\n",
      "1/1 [==============================] - 0s 44ms/step\n",
      "1/1 [==============================] - 0s 48ms/step\n",
      "1/1 [==============================] - 0s 45ms/step\n",
      "1/1 [==============================] - 0s 47ms/step\n",
      "1/1 [==============================] - 0s 43ms/step\n",
      "1/1 [==============================] - 0s 44ms/step\n",
      "1/1 [==============================] - 0s 43ms/step\n",
      "1/1 [==============================] - 0s 43ms/step\n",
      "1/1 [==============================] - 0s 43ms/step\n",
      "1/1 [==============================] - 0s 43ms/step\n",
      "1/1 [==============================] - 0s 43ms/step\n",
      "1/1 [==============================] - 0s 43ms/step\n",
      "1/1 [==============================] - 0s 43ms/step\n",
      "1/1 [==============================] - 0s 44ms/step\n",
      "1/1 [==============================] - 0s 44ms/step\n",
      "1/1 [==============================] - 0s 43ms/step\n",
      "1/1 [==============================] - 0s 43ms/step\n",
      "1/1 [==============================] - 0s 43ms/step\n",
      "1/1 [==============================] - 0s 43ms/step\n",
      "1/1 [==============================] - 0s 43ms/step\n",
      "1/1 [==============================] - 0s 43ms/step\n",
      "1/1 [==============================] - 0s 44ms/step\n",
      "1/1 [==============================] - 0s 44ms/step\n",
      "1/1 [==============================] - 0s 43ms/step\n",
      "1/1 [==============================] - 0s 44ms/step\n",
      "1/1 [==============================] - 0s 43ms/step\n",
      "1/1 [==============================] - 0s 44ms/step\n",
      "1/1 [==============================] - 0s 43ms/step\n",
      "1/1 [==============================] - 0s 44ms/step\n",
      "1/1 [==============================] - 0s 44ms/step\n",
      "1/1 [==============================] - 0s 43ms/step\n",
      "1/1 [==============================] - 0s 47ms/step\n",
      "1/1 [==============================] - 0s 44ms/step\n",
      "1/1 [==============================] - 0s 43ms/step\n",
      "1/1 [==============================] - 0s 43ms/step\n",
      "1/1 [==============================] - 0s 43ms/step\n",
      "1/1 [==============================] - 0s 43ms/step\n",
      "1/1 [==============================] - 0s 44ms/step\n",
      "1/1 [==============================] - 0s 43ms/step\n",
      "1/1 [==============================] - 0s 43ms/step\n",
      "1/1 [==============================] - 0s 43ms/step\n"
     ]
    }
   ],
   "source": [
    "file_path = 'elements.txt'\n",
    "input_sequences, targets, char_to_index, index_to_char, unique_chars = load_and_process_data(file_path)\n",
    "words_generated = define_and_train_model(input_sequences, targets, unique_chars, char_to_index, index_to_char)\n",
    "\n"
   ]
  },
  {
   "cell_type": "code",
   "execution_count": 26,
   "metadata": {},
   "outputs": [
    {
     "name": "stdout",
     "output_type": "stream",
     "text": [
      "['chlorineargonpotassium', 'oscoviumlivermorium', 'mrutherfordium', 'kryptonrubidium', 'iumarsenicselenium', 'hanumcerium', 'umbohriumhassium', 'mbohriumhassium', 'luorineneonsodium', 'cgalliumgermanium']\n"
     ]
    }
   ],
   "source": [
    "print(words_generated)"
   ]
  }
 ],
 "metadata": {
  "kernelspec": {
   "display_name": "Python 3 (ipykernel)",
   "language": "python",
   "name": "python3"
  },
  "language_info": {
   "codemirror_mode": {
    "name": "ipython",
    "version": 3
   },
   "file_extension": ".py",
   "mimetype": "text/x-python",
   "name": "python",
   "nbconvert_exporter": "python",
   "pygments_lexer": "ipython3",
   "version": "3.10.12"
  }
 },
 "nbformat": 4,
 "nbformat_minor": 4
}
