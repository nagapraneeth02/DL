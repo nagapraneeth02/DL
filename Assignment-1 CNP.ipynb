{
 "cells": [
  {
   "cell_type": "markdown",
   "id": "4df9bfbb",
   "metadata": {},
   "source": [
    "# Assignment 1"
   ]
  },
  {
   "cell_type": "markdown",
   "id": "035cfef9",
   "metadata": {},
   "source": [
    "### Problem Description\n",
    "Create a word-document matrix (A) from a text dataset. If the vocabulary (set of unique words) size is M and the number of documents is N, then the size of this matrix will be M X N. Use numpy data structures to create and manipulate this matrix.\n",
    "\n",
    "### Dataset\n",
    "This dataset has 20 short text files. The data is available here Download here.\n",
    "\n",
    "### Output\n",
    "    1. Show the matrix A: report M and N\n",
    "\n",
    "    2. Visualize the matrix: Use heatmap like visualization to display the word-document matrix (higher frequency should be denoted by a darker shade)\n",
    "\n",
    "    3. Using the matrix compute TF-IDF (Links to an external site.) scores for each word\n",
    "\n",
    "    4. Using cosine similarity (Links to an external site.) find the 3 most similar documents of \"10.txt\"\n",
    "\n",
    "    5. Using matrix manipulation and numpy create a new matrix B of size N X N, where Bij will represent the number of common words between document i and j. Note: the diagonal of B should always have the highest value"
   ]
  },
  {
   "cell_type": "code",
   "execution_count": 64,
   "id": "df261f98",
   "metadata": {},
   "outputs": [
    {
     "name": "stdout",
     "output_type": "stream",
     "text": [
      "20\n"
     ]
    }
   ],
   "source": [
    "import os\n",
    "import numpy as np\n",
    "import matplotlib.pyplot as plt\n",
    "import seaborn as sns\n",
    "import glob\n",
    "import re\n",
    "data_location = os.path.join('C:\\\\', 'Users', 'prane', 'OneDrive', 'Desktop', '3rd sem', 'Deep Learning', 'Assignment1_data', 'Assignment1_data', '*.txt')\n",
    "\n",
    "\n",
    "files = glob.glob(data_location)\n",
    "print(len(files))"
   ]
  },
  {
   "cell_type": "code",
   "execution_count": 65,
   "id": "0c6f48a4",
   "metadata": {},
   "outputs": [
    {
     "name": "stdout",
     "output_type": "stream",
     "text": [
      "!\"#$%&'()*+,-./:;<=>?@[\\]^_`{|}~\n"
     ]
    }
   ],
   "source": [
    "import string as s\n",
    "print(s.punctuation)\n",
    "\n",
    "def punctuation(lines):\n",
    "    for b in s.punctuation:\n",
    "        lines = lines.replace(b, \" \")\n",
    "    return lines"
   ]
  },
  {
   "cell_type": "code",
   "execution_count": 66,
   "id": "4b1acc2d",
   "metadata": {},
   "outputs": [],
   "source": [
    "def preprocessing(l):\n",
    "    st = \"\"\n",
    "    new_l = []\n",
    "    for i in l:\n",
    "        st = re.sub(\"[^A-Za-z]+\", \" \", i)\n",
    "        if st != ' ' and len(st.strip()) > 1:\n",
    "            new_l.append(st.lower())\n",
    "    return new_l"
   ]
  },
  {
   "cell_type": "code",
   "execution_count": 67,
   "id": "77350aab",
   "metadata": {},
   "outputs": [
    {
     "name": "stdout",
     "output_type": "stream",
     "text": [
      "Length of array 0: 88\n",
      "Length of array 1: 132\n",
      "Length of array 2: 122\n",
      "Length of array 3: 118\n",
      "Length of array 4: 172\n",
      "Length of array 5: 152\n",
      "Length of array 6: 154\n",
      "Length of array 7: 128\n",
      "Length of array 8: 134\n",
      "Length of array 9: 140\n",
      "Length of array 10: 136\n",
      "Length of array 11: 111\n",
      "Length of array 12: 130\n",
      "Length of array 13: 242\n",
      "Length of array 14: 160\n",
      "Length of array 15: 107\n",
      "Length of array 16: 122\n",
      "Length of array 17: 224\n",
      "Length of array 18: 132\n",
      "Length of array 19: 146\n",
      "Ans. 1) \n",
      "Matrix A [M X N]:\n",
      "[[0. 0. 0. ... 2. 0. 0.]\n",
      " [0. 2. 0. ... 0. 2. 0.]\n",
      " [0. 0. 0. ... 0. 0. 0.]\n",
      " ...\n",
      " [0. 0. 0. ... 0. 0. 0.]\n",
      " [0. 0. 0. ... 0. 0. 0.]\n",
      " [0. 0. 0. ... 0. 0. 0.]]\n",
      "\n",
      "Value of M: 1112\n",
      "Value of N: 20\n"
     ]
    }
   ],
   "source": [
    "emp = []\n",
    "new = []\n",
    "\n",
    "for f in files:\n",
    "    outfile = open(f,'r')\n",
    "    data = outfile.read()\n",
    "    data = punctuation(data)\n",
    "    emp.append(data.split())\n",
    "outfile.close()        \n",
    "emp[0]\n",
    "for i in emp:\n",
    "    new.append(np.array(preprocessing(i)))\n",
    "\n",
    "for i, arr in enumerate(new):\n",
    "    print(f\"Length of array {i}: {len(arr)}\")\n",
    "\n",
    "max_len = max(len(arr) for arr in new)\n",
    "\n",
    "# Pad the arrays to have the same length\n",
    "new_padded = np.array([np.pad(arr, (0, max_len - len(arr)), 'constant') for arr in new])\n",
    "\n",
    "# Concatonating array rows, axis = 0\n",
    "con = np.concatenate(new_padded)\n",
    "\n",
    "# Concatonating array rows, axis = 0\n",
    "con = np.concatenate(new)\n",
    "# Extracting unique words to form vocabulary\n",
    "vocabulary = np.unique(con)\n",
    "\n",
    "A = []\n",
    "\n",
    "for i in new:\n",
    "    freq = np.zeros(len(vocabulary))\n",
    "    for j in i:\n",
    "        freq[np.where(vocabulary == j)] += 1\n",
    "    A.append(freq)\n",
    "    \n",
    "A = np.array(A)\n",
    "A = A.T\n",
    "\n",
    "print(f\"Ans. 1) \\nMatrix A [M X N]:\\n{A}\\n\")\n",
    "print(f\"Value of M: {A.shape[0]}\")\n",
    "print(f\"Value of N: {A.shape[1]}\")\n"
   ]
  },
  {
   "cell_type": "code",
   "execution_count": 68,
   "id": "44e214fb",
   "metadata": {},
   "outputs": [
    {
     "data": {
      "text/plain": [
       "Text(50.722222222222214, 0.5, 'Words (M)')"
      ]
     },
     "execution_count": 68,
     "metadata": {},
     "output_type": "execute_result"
    },
    {
     "data": {
      "image/png": "[encoded data removed]",
      "text/plain": [
       "<Figure size 640x480 with 2 Axes>"
      ]
     },
     "metadata": {},
     "output_type": "display_data"
    }
   ],
   "source": [
    "sns.heatmap(A, cmap='Reds', cbar_kws={'label': 'Frequency'})\n",
    "plt.title('Word-Document Matrix')\n",
    "plt.xlabel('Documents (N)')\n",
    "plt.ylabel('Words (M)')"
   ]
  },
  {
   "cell_type": "code",
   "execution_count": 69,
   "id": "6a0f927e",
   "metadata": {},
   "outputs": [
    {
     "name": "stdout",
     "output_type": "stream",
     "text": [
      "TF-IDF Matrix:\n",
      " [[0.         0.         0.         ... 0.85802918 0.         0.        ]\n",
      " [0.         0.6427875  0.         ... 0.         0.6427875  0.        ]\n",
      " [0.         0.         0.         ... 0.         0.         0.        ]\n",
      " ...\n",
      " [0.         0.         0.         ... 0.         0.         0.        ]\n",
      " [0.         0.         0.         ... 0.         0.         0.        ]\n",
      " [0.         0.         0.         ... 0.         0.         0.        ]]\n"
     ]
    }
   ],
   "source": [
    "trans = TfidfTransformer()\n",
    "tfidf_matrix = trans.fit_transform(A)\n",
    "\n",
    "# Convert to NumPy array for better visualization\n",
    "tfidf_array = tfidf_matrix.toarray()\n",
    "\n",
    "print(f\"TF-IDF Matrix:\\n\", tfidf_array)"
   ]
  },
  {
   "cell_type": "code",
   "execution_count": 70,
   "id": "5e12a456",
   "metadata": {},
   "outputs": [
    {
     "name": "stdout",
     "output_type": "stream",
     "text": [
      "Documents:  [ 5  1 18]\n",
      "Similar numbers [0.17960704 0.07415627 0.07415627]\n"
     ]
    }
   ],
   "source": [
    "#4\n",
    "dot_prod = np.dot(tfidf_array.T, tfidf_array[:,9])\n",
    "norm_prod = np.linalg.norm(tfidf_array, axis = 0) * np.linalg.norm(tfidf_array[:,9])\n",
    "#cosine similarity = dot(a,b)/(norm(a) * norm(b))\n",
    "cos_sim = dot_prod/norm_prod\n",
    "print(\"Documents: \", np.argsort(cos_sim)[-4:-1][::-1])\n",
    "print(\"Similar numbers\", np.sort(cos_sim)[-4:-1][::-1])"
   ]
  },
  {
   "cell_type": "code",
   "execution_count": 71,
   "id": "a183a83f",
   "metadata": {},
   "outputs": [
    {
     "name": "stdout",
     "output_type": "stream",
     "text": [
      "In Matrix B, each Bij denotes the no.of common words between document i and document j.\n",
      "\n",
      " [[ 88.  23.  27.  24.  26.  29.  26.  23.  34.  16.  25.  21.  20.  34.\n",
      "   25.  30.  21.  27.  23.  27.]\n",
      " [ 23. 132.  35.  22.  41.  43.  33.  35.  23.  33.  32.  25.  26.  28.\n",
      "   30.  25.  22.  40. 132.  31.]\n",
      " [ 27.  35. 122.  23.  28.  29.  35.  31.  25.  23.  32.  22.  31.  35.\n",
      "   28.  30.  27.  31.  35.  32.]\n",
      " [ 24.  22.  23. 118.  27.  25.  21.  23.  25.  15.  25.  21.  25.  29.\n",
      "   21.  22.  21.  26.  22.  24.]\n",
      " [ 26.  41.  28.  27. 172.  42.  34.  35.  23.  27.  37.  30.  24.  36.\n",
      "   35.  27.  22.  52.  41.  36.]\n",
      " [ 29.  43.  29.  25.  42. 152.  30.  29.  27.  57.  32.  31.  29.  32.\n",
      "   28.  27.  25.  43.  43.  33.]\n",
      " [ 26.  33.  35.  21.  34.  30. 154.  36.  31.  26.  34.  29.  37.  42.\n",
      "   33.  33.  28.  40.  33.  41.]\n",
      " [ 23.  35.  31.  23.  35.  29.  36. 128.  27.  24.  34.  22.  29.  36.\n",
      "   35.  28.  24.  47.  35.  35.]\n",
      " [ 34.  23.  25.  25.  23.  27.  31.  27. 134.  21.  28.  24.  34.  38.\n",
      "   41.  25.  30.  31.  23.  32.]\n",
      " [ 16.  33.  23.  15.  27.  57.  26.  24.  21. 140.  29.  24.  21.  25.\n",
      "   21.  27.  20.  31.  33.  29.]\n",
      " [ 25.  32.  32.  25.  37.  32.  34.  34.  28.  29. 136.  25.  27.  38.\n",
      "   33.  30.  25.  38.  32.  38.]\n",
      " [ 21.  25.  22.  21.  30.  31.  29.  22.  24.  24.  25. 111.  25.  30.\n",
      "   25.  26.  20.  34.  25.  27.]\n",
      " [ 20.  26.  31.  25.  24.  29.  37.  29.  34.  21.  27.  25. 130.  33.\n",
      "   35.  23.  27.  35.  26.  32.]\n",
      " [ 34.  28.  35.  29.  36.  32.  42.  36.  38.  25.  38.  30.  33. 242.\n",
      "   38.  32.  27.  39.  28.  47.]\n",
      " [ 25.  30.  28.  21.  35.  28.  33.  35.  41.  21.  33.  25.  35.  38.\n",
      "  160.  32.  30.  42.  30.  32.]\n",
      " [ 30.  25.  30.  22.  27.  27.  33.  28.  25.  27.  30.  26.  23.  32.\n",
      "   32. 107.  23.  32.  25.  28.]\n",
      " [ 21.  22.  27.  21.  22.  25.  28.  24.  30.  20.  25.  20.  27.  27.\n",
      "   30.  23. 122.  31.  22.  27.]\n",
      " [ 27.  40.  31.  26.  52.  43.  40.  47.  31.  31.  38.  34.  35.  39.\n",
      "   42.  32.  31. 224.  40.  40.]\n",
      " [ 23. 132.  35.  22.  41.  43.  33.  35.  23.  33.  32.  25.  26.  28.\n",
      "   30.  25.  22.  40. 132.  31.]\n",
      " [ 27.  31.  32.  24.  36.  33.  41.  35.  32.  29.  38.  27.  32.  47.\n",
      "   32.  28.  27.  40.  31. 146.]]\n"
     ]
    }
   ],
   "source": [
    "#5\n",
    "B = []\n",
    "for i in A.T:\n",
    "    minimum = []\n",
    "    for j in A.T:\n",
    "        minimum.append(np.sum(np.minimum(i,j)))\n",
    "        \n",
    "    B.append(minimum)\n",
    "    \n",
    "B = np.array(B)\n",
    "print(\"In Matrix B, each Bij denotes the no.of common words between document i and document j.\\n\\n\", B)"
   ]
  },
  {
   "cell_type": "markdown",
   "id": "6e45ecf1",
   "metadata": {},
   "source": [
    "# References"
   ]
  },
  {
   "cell_type": "markdown",
   "id": "dd0caa69",
   "metadata": {},
   "source": [
    "https://education.molssi.org/python_scripting_cms/03-multiple_files/index.html\n",
    "\n",
    "https://stackoverflow.com/questions/43182472/process-multiple-files-in-python-with-one-code\n",
    "\n",
    "https://scikit-learn.org/stable/modules/generated/sklearn.feature_extraction.text.TfidfTransformer.html\n",
    "\n",
    "https://memgraph.com/blog/cosine-similarity-python-scikit-learn"
   ]
  }
 ],
 "metadata": {
  "kernelspec": {
   "display_name": "Python 3 (ipykernel)",
   "language": "python",
   "name": "python3"
  },
  "language_info": {
   "codemirror_mode": {
    "name": "ipython",
    "version": 3
   },
   "file_extension": ".py",
   "mimetype": "text/x-python",
   "name": "python",
   "nbconvert_exporter": "python",
   "pygments_lexer": "ipython3",
   "version": "3.11.5"
  }
 },
 "nbformat": 4,
 "nbformat_minor": 5
}
